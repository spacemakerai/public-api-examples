{
 "cells": [
  {
   "cell_type": "markdown",
   "metadata": {},
   "source": [
    "# This python example will show\n",
    "    -> How to achieve an token, on order to call the forma API\n",
    "    -> Example of how to call various forma public API\n",
    "    -> Get Project details, create and update Proposal, Create element, Update/Replace element, Get specific element\n",
    "    -> Get element geometry, Create and get Terrain(Yet)"
   ]
  },
  {
   "cell_type": "code",
   "execution_count": null,
   "metadata": {},
   "outputs": [],
   "source": [
    "# Importing all the required modules\n",
    "# Install in not installed\n",
    "# Example: pip install requests\n",
    "import requests\n",
    "import webbrowser as wb\n",
    "import urllib\n",
    "import pkce\n",
    "from http.server import HTTPServer, BaseHTTPRequestHandler"
   ]
  },
  {
   "cell_type": "code",
   "execution_count": null,
   "metadata": {},
   "outputs": [],
   "source": [
    "\n",
    "APS_APP_CLIENT_ID = 'ID'\n",
    "REDIRECT_URI = 'APS_APP_REDIRECT_URI'\n",
    "AUTHORIZER_URL = 'https://developer.api.autodesk.com/authentication/v2/authorize'\n",
    "EDITOR_SCOPES = [\"data:read\", \"data:write\"] # Scope that allows the user to read and write data\n",
    "LOCAL_SERVER = ('localhost', 8080) # Local server to handle the redirect, could be your own server\n",
    "code_verifier = pkce.generate_code_verifier(length=128) # Generate a code verifier, required to generate token\n",
    "code_challenge = pkce.get_code_challenge(code_verifier) # Generate a code challenge, required to generate token"
   ]
  },
  {
   "cell_type": "code",
   "execution_count": null,
   "metadata": {},
   "outputs": [],
   "source": [
    "# Build the URL to open in the browser, as this will ask user to be authenticated and give consent to the scopes\n",
    "AUTHORIZER_BROWSER_URL = f'{AUTHORIZER_URL}?response_type=code&client_id={APS_APP_CLIENT_ID}&redirect_uri={REDIRECT_URI}&scope={\" \".join(EDITOR_SCOPES)}&code_challenge={code_challenge}&code_challenge_method=S256&nonce=1234'"
   ]
  },
  {
   "cell_type": "code",
   "execution_count": null,
   "metadata": {},
   "outputs": [],
   "source": [
    "# Create a local server to handle the redirect\n",
    "def create_server(host: str, post: str):\n",
    "    class Server(BaseHTTPRequestHandler):\n",
    "        def do_GET(self):\n",
    "            self.send_response(200)\n",
    "            self.send_header('Content-type', 'text/html')\n",
    "            self.end_headers()\n",
    "            self.wfile.write(b'<html><body><h1>Authorization complete</h1></body></html>')\n",
    "            if self.path.startswith(urllib.parse.urlparse(REDIRECT_URI).path):\n",
    "                # Save the code in the local server object\n",
    "                self.server.auth_code = urllib.parse.parse_qs(urllib.parse.urlparse(self.path).query)['code'][0]\n",
    "                # Close the server\n",
    "                self.server.shutdown()\n",
    "\n",
    "    return HTTPServer((host, post), Server)"
   ]
  },
  {
   "cell_type": "code",
   "execution_count": null,
   "metadata": {},
   "outputs": [],
   "source": [
    "# Create a server and open the browser in a new tab\n",
    "# User user will be redirected to the APS_APP_REDIRECT_URI with the code as a query parameter\n",
    "# Server will be closed after the user is redirected and the code is saved\n",
    "server = create_server(*LOCAL_SERVER)\n",
    "wb.open_new_tab(AUTHORIZER_BROWSER_URL)\n",
    "server.serve_forever()"
   ]
  },
  {
   "cell_type": "code",
   "execution_count": null,
   "metadata": {},
   "outputs": [],
   "source": [
    "# Get the token using the code\n",
    "# The token can be used to make requests to the Autodesk API\n",
    "response = requests.post('https://developer.api.autodesk.com/authentication/v2/token', \n",
    "    headers = {\n",
    "        'Content-Type': 'application/x-www-form-urlencoded',\n",
    "        'accept': 'application/json'\n",
    "    }, \n",
    "    data = {\n",
    "        'grant_type': 'authorization_code',\n",
    "        'client_id': APS_APP_CLIENT_ID,\n",
    "        'code_verifier': code_verifier,\n",
    "        'code': server.auth_code,\n",
    "        'redirect_uri': REDIRECT_URI,\n",
    "    }\n",
    ").json()\n",
    "print(response['access_token']) # Print the token"
   ]
  },
  {
   "cell_type": "code",
   "execution_count": null,
   "metadata": {},
   "outputs": [],
   "source": [
    "## Get a project\n",
    "# Get the project id from your Forma APP\n",
    "PROJECT_ID = 'YOUR_PROJECT_ID'\n",
    "project = requests.get(f'https://developer.api.autodesk.com/forma/project/v1alpha/projects/{PROJECT_ID}', headers = {\n",
    "    'x-ads-region': 'EMEA',\n",
    "    'Authorization': f'Bearer {response[\"access_token\"]}',\n",
    "}).json()\n",
    "print(project) # Print the project"
   ]
  },
  {
   "cell_type": "code",
   "execution_count": null,
   "metadata": {},
   "outputs": [],
   "source": [
    "## Create proposal\n",
    "# Create a proposal with the project id and the token\n",
    "# For creating the proposal, one has top pass the terrain and base urns\n",
    "proposal = requests.post(f'https://developer.api.autodesk.com/forma/proposal/v1alpha/proposals?authcontext={PROJECT_ID}', \n",
    "    headers = {\n",
    "        'x-ads-region': 'EMEA',\n",
    "        'Authorization': f'Bearer {response[\"access_token\"]}',\n",
    "    }, \n",
    "    json = {\n",
    "        'terrain': {\n",
    "            'key': 'YOUR_TERRAIN_KEY',\n",
    "            'urn': 'YOUR_TERRAIN_URN'\n",
    "        },\n",
    "        'base': {\n",
    "            'urn': 'YOUR_BASE_URN',\n",
    "            'key': 'YOUR_BASE_KEY'\n",
    "        },\n",
    "        'children': [],\n",
    "        'name': 'YOUR PROPOSAL NAME',\n",
    "    },\n",
    ").json()\n",
    "print(proposal)"
   ]
  },
  {
   "cell_type": "code",
   "execution_count": null,
   "metadata": {},
   "outputs": [],
   "source": [
    "## Get a specif proposal by URN\n",
    "# In forma, the proposal is an special kind of element, with various metadata\n",
    "proposal_urn = proposal['urn']\n",
    "proposal_element = requests.get(f'https://developer.api.autodesk.com/forma/element-service/v1alpha/elements/{proposal_urn}?authcontext={PROJECT_ID}', headers = {\n",
    "    'x-ads-region': 'EMEA',\n",
    "    'Authorization': f'Bearer {response[\"access_token\"]}',\n",
    "}).json()\n",
    "print(proposal_element)"
   ]
  },
  {
   "cell_type": "code",
   "execution_count": null,
   "metadata": {},
   "outputs": [],
   "source": [
    "## Get an element by URN\n",
    "# This API will return the metadata of the element, actual geometry could be retrieved using the Representation API\n",
    "element_urn_terrain = 'YOUR_ELEMENT_URN'\n",
    "terrain_element = requests.get(f'https://developer.api.autodesk.com/forma/element-service/v1alpha/elements/{element_urn_terrain}?authcontext={PROJECT_ID}', headers = {\n",
    "    'x-ads-region': 'EMEA',\n",
    "    'Authorization': f'Bearer {response[\"access_token\"]}',\n",
    "}).json()\n",
    "print(terrain_element)"
   ]
  },
  {
   "cell_type": "code",
   "execution_count": null,
   "metadata": {},
   "outputs": [],
   "source": [
    "## Get a element volumeMash representation\n",
    "# This is an example of getting a terrain element representation\n",
    "# This API will return the actual geometry of the element\n",
    "YOUR_TERRAIN_ELEMENT_URN = 'YOUR_TERRAIN_ELEMENT_URN'\n",
    "terrain_element_representation = requests.get(f'https://developer.api.autodesk.com/forma/element-service/v1alpha/elements/{YOUR_TERRAIN_ELEMENT_URN}/representations/volumeMesh?authcontext={PROJECT_ID}', headers = {\n",
    "    'x-ads-region': 'EMEA',\n",
    "    'Authorization': f'Bearer {response[\"access_token\"]}',\n",
    "})\n",
    "print(terrain_element_representation.text)"
   ]
  },
  {
   "cell_type": "code",
   "execution_count": null,
   "metadata": {},
   "outputs": [],
   "source": [
    "## Get a element footprint representation\n",
    "# This is an example of getting a footprint element representation\n",
    "footprint_element_urn = 'YOUR_FOOTPRINT_ELEMENT_URN'\n",
    "footprint_element_representation = requests.get(f'https://developer.api.autodesk.com/forma/element-service/v1alpha/elements/{footprint_element_urn}/representations/footprint?authcontext={PROJECT_ID}', headers = {\n",
    "    'x-ads-region': 'EMEA',\n",
    "    'Authorization': f'Bearer {response[\"access_token\"]}',\n",
    "})\n",
    "print(footprint_element_representation.text)"
   ]
  },
  {
   "cell_type": "markdown",
   "metadata": {},
   "source": [
    "### integrate API\n",
    "### This API is used to store non Forma native geometry in the Forma"
   ]
  },
  {
   "cell_type": "code",
   "execution_count": null,
   "metadata": {},
   "outputs": [],
   "source": [
    "## If the geometry is too big, you can use the S3 API to upload the file\n",
    "## This is an example of getting an s3 link to upload a file\n",
    "s3_link = requests.get(f'https://developer.api.autodesk.com/forma/integrate/v1alpha/upload-link?authcontext={PROJECT_ID}', headers= {\n",
    "    'x-ads-region': 'EMEA',\n",
    "    'Authorization': f'Bearer {response[\"access_token\"]}',\n",
    "}).json()\n",
    "print(s3_link)"
   ]
  },
  {
   "cell_type": "code",
   "execution_count": null,
   "metadata": {},
   "outputs": [],
   "source": [
    "## Get the file buffer, example: car.glb\n",
    "## Upload the file to the S3 link\n",
    "file = open('./car.glb', 'rb')\n",
    "byte_array = file.read()\n",
    "upload_file_result = requests.put(f'{s3_link[\"url\"]}', data=byte_array)\n",
    "print(\"File successfully uploaded\" if upload_file_result.status_code == 200 else f'File upload failed, Reason = {upload_file_result.reason}')"
   ]
  },
  {
   "cell_type": "code",
   "execution_count": null,
   "metadata": {},
   "outputs": [],
   "source": [
    "## Create an element\n",
    "## This is an example of creating an element with the uploaded file\n",
    "## In the geometry is inline geometry then, the geometry can be inserted directly without the need of uploading the file\n",
    "upload_element = requests.post(f'https://developer.api.autodesk.com/forma/integrate/v1alpha/elements?authcontext={PROJECT_ID}', headers={\n",
    "    'x-ads-region': 'EMEA',\n",
    "    'Authorization': f'Bearer {response[\"access_token\"]}',\n",
    "    'Content-Type': 'application/json'\n",
    "}, json= {\n",
    "    'rootElement': 'root',\n",
    "    'elements': {\n",
    "        'root': {\n",
    "            'id': 'root',\n",
    "            'properties': {\n",
    "                'geometry': {\n",
    "                    'type': \"File\",\n",
    "                    'format': \"glb\",\n",
    "                    's3Id': s3_link[\"id\"]\n",
    "                }\n",
    "            }\n",
    "        }\n",
    "    }\n",
    "}).json()\n",
    "print(upload_element)"
   ]
  },
  {
   "cell_type": "code",
   "execution_count": null,
   "metadata": {},
   "outputs": [],
   "source": [
    "# Replace an existing element\n",
    "# This is an example of replacing an existing element with the uploaded file\n",
    "replace_element = requests.put(f'https://developer.api.autodesk.com/forma/integrate/v1alpha/elements/{footprint_element_urn}?authcontext={PROJECT_ID}', headers={\n",
    "    'x-ads-region': 'EMEA',\n",
    "    'Authorization': f'Bearer {response[\"access_token\"]}',\n",
    "    'Content-Type': 'application/json'\n",
    "}, json={\n",
    "    'rootElement': 'root',\n",
    "    'elements': {\n",
    "        'root': {\n",
    "            'id': 'root',\n",
    "            'properties': {\n",
    "                'geometry': {\n",
    "                    'type': 'File',\n",
    "                    'format': 'glb',\n",
    "                    's3Id': s3_link['id']\n",
    "                }\n",
    "            }\n",
    "        }\n",
    "    }\n",
    "}).json()"
   ]
  }
 ],
 "metadata": {
  "kernelspec": {
   "display_name": "base",
   "language": "python",
   "name": "python3"
  },
  "language_info": {
   "codemirror_mode": {
    "name": "ipython",
    "version": 3
   },
   "file_extension": ".py",
   "mimetype": "text/x-python",
   "name": "python",
   "nbconvert_exporter": "python",
   "pygments_lexer": "ipython3",
   "version": "3.11.5"
  }
 },
 "nbformat": 4,
 "nbformat_minor": 2
}
